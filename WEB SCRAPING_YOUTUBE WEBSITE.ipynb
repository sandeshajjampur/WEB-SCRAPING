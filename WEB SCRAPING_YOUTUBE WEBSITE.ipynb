{
 "cells": [
  {
   "cell_type": "code",
   "execution_count": 1,
   "metadata": {},
   "outputs": [],
   "source": [
    "import pandas as pd\n",
    "import numpy as np\n",
    "import matplotlib.pyplot as plt\n",
    "import seaborn as sns\n",
    "%matplotlib inline"
   ]
  },
  {
   "cell_type": "code",
   "execution_count": 2,
   "metadata": {},
   "outputs": [
    {
     "name": "stdout",
     "output_type": "stream",
     "text": [
      "Requirement already satisfied: pytube in c:\\users\\a\\anaconda3\\lib\\site-packages (10.4.1)\n",
      "Requirement already satisfied: typing-extensions in c:\\users\\a\\anaconda3\\lib\\site-packages (from pytube) (3.7.4.3)\n",
      "Note: you may need to restart the kernel to use updated packages.\n"
     ]
    }
   ],
   "source": [
    "pip install pytube"
   ]
  },
  {
   "cell_type": "code",
   "execution_count": 3,
   "metadata": {},
   "outputs": [],
   "source": [
    "from pytube import YouTube"
   ]
  },
  {
   "cell_type": "code",
   "execution_count": 4,
   "metadata": {},
   "outputs": [
    {
     "name": "stdout",
     "output_type": "stream",
     "text": [
      "Enter Link of Youtube Video: https://www.youtube.com/watch?v=kbulCM90w8w\n"
     ]
    }
   ],
   "source": [
    "link = input(\"Enter Link of Youtube Video: \")\n",
    "yt = YouTube(link)"
   ]
  },
  {
   "cell_type": "code",
   "execution_count": 5,
   "metadata": {},
   "outputs": [
    {
     "name": "stdout",
     "output_type": "stream",
     "text": [
      "Title : Tesla Model 3 in-depth review - see why it’s the best electric car in the world!\n",
      "Views : 6193255\n",
      "Duration : 1209\n",
      "Description : Need help buying your next car? Click http://bit.ly/Help-Me-carwow and my team and I will help you choose your ideal car at a fair price - from Mat Watson!\n",
      "\n",
      "......................................................................\n",
      "\n",
      "Introducing the new Tesla Model 3! With a starting price of around $35,000, it’s a relatively cheap alternative to the more established Model S. But don’t let the price deceive you - the Model 3 still comes in with just as much high-quality tech and styling as you’ll find in its older brother! So is Tesla cutting corners elsewhere to allow you to buy the Model 3 at such a price? Join Mat for his latest in-depth review to find out! \n",
      "\n",
      "Instagram – http://www.instagram.com/carwowcars\n",
      "\n",
      "Facebook – http://www.facebook.com/carwowuk/\n",
      "\n",
      "Twitter – http://www.twitter.com/carwowuk\n",
      "\n",
      "Awkward haggling is a thing of the past with carwow. Choose your perfect car with our configurator tool and let the country’s best dealers compete over you. Compare the five best offers by price, location and dealer ratings and choose the one that’s right for you – no hassle, no haggling, just a great deal. \n",
      "\n",
      "Visit our site to save money on your new car – http://bit.ly/carwow-UK \n",
      "\n",
      "Oder auch in Deutschland Geld beim Autokauf sparen – http://bit.ly/carwow-DE\n",
      "Ratings : 4.9005027\n"
     ]
    }
   ],
   "source": [
    "# To print title\n",
    "print(\"Title :\", yt.title)\n",
    "# To get number of views\n",
    "print(\"Views :\", yt.views)\n",
    "# To get the length of video\n",
    "print(\"Duration :\", yt.length)\n",
    "# To get description\n",
    "print(\"Description :\", yt.description)\n",
    "# To get ratings\n",
    "print(\"Ratings :\", yt.rating)"
   ]
  },
  {
   "cell_type": "code",
   "execution_count": 6,
   "metadata": {},
   "outputs": [
    {
     "name": "stdout",
     "output_type": "stream",
     "text": [
      "Download completed!!\n"
     ]
    }
   ],
   "source": [
    "stream = yt.streams.get_highest_resolution()\n",
    "stream.download()\n",
    "print(\"Download completed!!\")"
   ]
  },
  {
   "cell_type": "code",
   "execution_count": null,
   "metadata": {},
   "outputs": [],
   "source": []
  }
 ],
 "metadata": {
  "kernelspec": {
   "display_name": "Python 3",
   "language": "python",
   "name": "python3"
  },
  "language_info": {
   "codemirror_mode": {
    "name": "ipython",
    "version": 3
   },
   "file_extension": ".py",
   "mimetype": "text/x-python",
   "name": "python",
   "nbconvert_exporter": "python",
   "pygments_lexer": "ipython3",
   "version": "3.7.6"
  }
 },
 "nbformat": 4,
 "nbformat_minor": 4
}
